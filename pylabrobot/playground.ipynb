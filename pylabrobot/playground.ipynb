{
 "cells": [
  {
   "cell_type": "code",
   "execution_count": 1,
   "metadata": {},
   "outputs": [
    {
     "name": "stdout",
     "output_type": "stream",
     "text": [
      "3475\n"
     ]
    }
   ],
   "source": [
    "def calculate_ftdi_checksum(command_bytes):\n",
    "  \"\"\"\n",
    "  Calculates the 16-bit checksum for an FTDI command.\n",
    "\n",
    "  Args:\n",
    "    command_bytes: A bytes object containing the command data.\n",
    "\n",
    "  Returns:\n",
    "    A bytes object representing the 2-byte checksum.\n",
    "  \"\"\"\n",
    "\n",
    "  checksum = 0xAAAA  # Initialization value\n",
    "\n",
    "  # Iterate over the command bytes in 16-bit words (little-endian)\n",
    "  for i in range(0, len(command_bytes) - 1, 2):\n",
    "    word = command_bytes[i] + (command_bytes[i + 1] << 8)\n",
    "    checksum += word\n",
    "\n",
    "  # One's complement\n",
    "  checksum = ~checksum & 0xFFFF  # Mask to 16 bits\n",
    "\n",
    "  # Return the checksum as a 2-byte bytes object (little-endian)\n",
    "  return bytes([checksum & 0xFF, (checksum >> 8) & 0xFF])\n",
    "\n",
    "# Example usage with your command:\n",
    "command_bytes = bytes.fromhex('02 00 18 0C 01 05 06 06 00 09 00 00 00 00 00 00 00 00 00 C0 00')\n",
    "checksum = calculate_ftdi_checksum(command_bytes)\n",
    "print(checksum.hex())  # Output: d940"
   ]
  },
  {
   "cell_type": "code",
   "execution_count": 8,
   "metadata": {},
   "outputs": [
    {
     "data": {
      "text/plain": [
       "b'\\x02\\x00\\x18\\x0c\\x01\\x05\\x06\\x06\\x00\\t\\x00\\x00\\x00\\x00\\x00\\x00\\x00\\x00\\x00\\xc0\\x00'"
      ]
     },
     "execution_count": 8,
     "metadata": {},
     "output_type": "execute_result"
    }
   ],
   "source": [
    "command_bytes"
   ]
  },
  {
   "cell_type": "code",
   "execution_count": 9,
   "metadata": {},
   "outputs": [
    {
     "data": {
      "text/plain": [
       "b'\\x01\\x01'"
      ]
     },
     "execution_count": 9,
     "metadata": {},
     "output_type": "execute_result"
    }
   ],
   "source": [
    "(sum(command_bytes) & 0xFFFF).to_bytes(2, 'big')"
   ]
  },
  {
   "cell_type": "code",
   "execution_count": null,
   "metadata": {},
   "outputs": [],
   "source": []
  }
 ],
 "metadata": {
  "kernelspec": {
   "display_name": ".venv (3.12.10)",
   "language": "python",
   "name": "python3"
  },
  "language_info": {
   "codemirror_mode": {
    "name": "ipython",
    "version": 3
   },
   "file_extension": ".py",
   "mimetype": "text/x-python",
   "name": "python",
   "nbconvert_exporter": "python",
   "pygments_lexer": "ipython3",
   "version": "3.12.10"
  }
 },
 "nbformat": 4,
 "nbformat_minor": 2
}
